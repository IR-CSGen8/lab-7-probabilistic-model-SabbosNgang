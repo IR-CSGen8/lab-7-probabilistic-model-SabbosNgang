{
 "cells": [
  {
   "cell_type": "code",
   "execution_count": 1,
   "id": "3c892250",
   "metadata": {},
   "outputs": [],
   "source": [
    "# Import necessary libraries\n",
    "from collections import defaultdict\n",
    "\n",
    "# Define the documents\n",
    "documents = [\n",
    "    \"I love cats . cats are cute pets.\",\n",
    "    \"Dogs are loyal. Dogs are good friends.\",\n",
    "    \"Birds can sing. Birds fly in the sky.\",\n",
    "    \"Fish live underwater. Fish come in many colors.\"\n",
    "]"
   ]
  },
  {
   "cell_type": "markdown",
   "id": "2a685610",
   "metadata": {},
   "source": [
    "In this section, we define and create unigram models for the documents. Unigrams are single words or terms, and a unigram model represents the probability distribution of individual terms in the document. The unigram_model function counts the occurrences of each term in a document, calculates the probabilities, and returns the unigram model. We create unigram models for all documents in the collection."
   ]
  },
  {
   "cell_type": "markdown",
   "id": "a8d0e623",
   "metadata": {},
   "source": [
    "# Create Unigram Models"
   ]
  },
  {
   "cell_type": "code",
   "execution_count": 2,
   "id": "2d589155",
   "metadata": {},
   "outputs": [],
   "source": [
    "def unigram_model(document):\n",
    "    words = document.split()\n",
    "    total_words = len(words)\n",
    "    unigram_counts = defaultdict(int)\n",
    "    for word in words:\n",
    "        unigram_counts[word] += 1\n",
    "    unigram_model = {word: count / total_words for word, count in unigram_counts.items()}\n",
    "    return unigram_model"
   ]
  },
  {
   "cell_type": "code",
   "execution_count": 3,
   "id": "9c571b22",
   "metadata": {},
   "outputs": [],
   "source": [
    "# Create unigram models for all documents\n",
    "unigram_models = [unigram_model(doc) for doc in documents]"
   ]
  },
  {
   "cell_type": "code",
   "execution_count": 4,
   "id": "a16bdec3",
   "metadata": {},
   "outputs": [
    {
     "data": {
      "text/plain": [
       "[{'I': 0.125,\n",
       "  'love': 0.125,\n",
       "  'cats': 0.25,\n",
       "  '.': 0.125,\n",
       "  'are': 0.125,\n",
       "  'cute': 0.125,\n",
       "  'pets.': 0.125},\n",
       " {'Dogs': 0.2857142857142857,\n",
       "  'are': 0.2857142857142857,\n",
       "  'loyal.': 0.14285714285714285,\n",
       "  'good': 0.14285714285714285,\n",
       "  'friends.': 0.14285714285714285},\n",
       " {'Birds': 0.25,\n",
       "  'can': 0.125,\n",
       "  'sing.': 0.125,\n",
       "  'fly': 0.125,\n",
       "  'in': 0.125,\n",
       "  'the': 0.125,\n",
       "  'sky.': 0.125},\n",
       " {'Fish': 0.25,\n",
       "  'live': 0.125,\n",
       "  'underwater.': 0.125,\n",
       "  'come': 0.125,\n",
       "  'in': 0.125,\n",
       "  'many': 0.125,\n",
       "  'colors.': 0.125}]"
      ]
     },
     "execution_count": 4,
     "metadata": {},
     "output_type": "execute_result"
    }
   ],
   "source": [
    "unigram_models"
   ]
  },
  {
   "cell_type": "code",
   "execution_count": 5,
   "id": "faa6e564",
   "metadata": {},
   "outputs": [],
   "source": [
    "#we have a query \n",
    "query = \"I like cats and dogs\""
   ]
  },
  {
   "cell_type": "code",
   "execution_count": 6,
   "id": "85f84e9b",
   "metadata": {},
   "outputs": [],
   "source": [
    "def calculate_query_probability(query, document_model):\n",
    "    # Tokenize the query into words\n",
    "    query_words = query.split()\n",
    "    \n",
    "    # Initialize the probability for the entire query\n",
    "    query_probability = 1.0\n",
    "    \n",
    "    # Calculate the probability for each term in the query\n",
    "    for word in query_words:\n",
    "        if word in document_model:\n",
    "            query_probability *= document_model[word]\n",
    "        else:\n",
    "            query_probability = 0.0\n",
    "            break\n",
    "    \n",
    "    return query_probability"
   ]
  },
  {
   "cell_type": "code",
   "execution_count": 32,
   "id": "25934062",
   "metadata": {},
   "outputs": [
    {
     "name": "stdout",
     "output_type": "stream",
     "text": [
      "Query probability for document 1 is 0.0\n",
      "Query probability for document 2 is 0.0\n",
      "Query probability for document 3 is 0.0\n",
      "Query probability for document 4 is 0.0\n",
      "Query probability for document is 0.0\n"
     ]
    }
   ],
   "source": [
    "for i in range(len(documents)):\n",
    "    query_probability = calculate_query_probability(query, unigram_models[i])\n",
    "    print(\"Query probability for document {} is {}\".format(i+1, query_probability))\n",
    "query_probability_all = calculate_query_probability(query, unigram_models)\n",
    "print(\"Query probability for document is {}\".format(query_probability_all))"
   ]
  },
  {
   "cell_type": "code",
   "execution_count": 8,
   "id": "e57e1768",
   "metadata": {},
   "outputs": [
    {
     "data": {
      "text/plain": [
       "0.0"
      ]
     },
     "execution_count": 8,
     "metadata": {},
     "output_type": "execute_result"
    }
   ],
   "source": [
    "query_probability"
   ]
  },
  {
   "cell_type": "markdown",
   "id": "f2641c2c",
   "metadata": {},
   "source": [
    "## Your task"
   ]
  },
  {
   "cell_type": "code",
   "execution_count": 9,
   "id": "771db8aa",
   "metadata": {},
   "outputs": [],
   "source": [
    "# Use Laplace Smoothing for this problem\n",
    "\n",
    "# https://www.exploredatabase.com/2020/10/explain-add-1-laplace-smoothing-with-example.html\n",
    "\n",
    "def laplace_unigram_model(document):\n",
    "    words = document.split()\n",
    "    total_words = len(words)\n",
    "    laplace_unigram_counts = defaultdict(int)\n",
    "    \n",
    "    vocabulary = set()\n",
    "    \n",
    "    for word in words:\n",
    "        laplace_unigram_counts[word] += 1\n",
    "        vocabulary.add(word)  \n",
    "    \n",
    "    laplace_unigram_model = {word: (count + 1) / (total_words + len(vocabulary)) for word, count in laplace_unigram_counts.items()}\n",
    "    \n",
    "    return laplace_unigram_model\n",
    "\n"
   ]
  },
  {
   "cell_type": "code",
   "execution_count": 10,
   "metadata": {},
   "outputs": [],
   "source": [
    "laplace_unigram_models = [laplace_unigram_model(doc) for doc in documents]"
   ]
  },
  {
   "cell_type": "code",
   "execution_count": 11,
   "metadata": {},
   "outputs": [
    {
     "data": {
      "text/plain": [
       "[{'I': 0.13333333333333333,\n",
       "  'love': 0.13333333333333333,\n",
       "  'cats': 0.2,\n",
       "  '.': 0.13333333333333333,\n",
       "  'are': 0.13333333333333333,\n",
       "  'cute': 0.13333333333333333,\n",
       "  'pets.': 0.13333333333333333},\n",
       " {'Dogs': 0.25,\n",
       "  'are': 0.25,\n",
       "  'loyal.': 0.16666666666666666,\n",
       "  'good': 0.16666666666666666,\n",
       "  'friends.': 0.16666666666666666},\n",
       " {'Birds': 0.2,\n",
       "  'can': 0.13333333333333333,\n",
       "  'sing.': 0.13333333333333333,\n",
       "  'fly': 0.13333333333333333,\n",
       "  'in': 0.13333333333333333,\n",
       "  'the': 0.13333333333333333,\n",
       "  'sky.': 0.13333333333333333},\n",
       " {'Fish': 0.2,\n",
       "  'live': 0.13333333333333333,\n",
       "  'underwater.': 0.13333333333333333,\n",
       "  'come': 0.13333333333333333,\n",
       "  'in': 0.13333333333333333,\n",
       "  'many': 0.13333333333333333,\n",
       "  'colors.': 0.13333333333333333}]"
      ]
     },
     "execution_count": 11,
     "metadata": {},
     "output_type": "execute_result"
    }
   ],
   "source": [
    "laplace_unigram_models"
   ]
  },
  {
   "cell_type": "code",
   "execution_count": 12,
   "metadata": {},
   "outputs": [],
   "source": [
    "# create a bigram model & apply smoothing method\n",
    "def bigram_model(document):\n",
    "    words = document.split()\n",
    "    total_words = len(words)\n",
    "    bigram_counts = defaultdict(int)\n",
    "    \n",
    "    vocabulary = set()\n",
    "    \n",
    "    for i in range(1, total_words):\n",
    "        bigram = (words[i - 1], words[i])\n",
    "        bigram_counts[bigram] += 1\n",
    "        vocabulary.add(bigram[0]) \n",
    "    \n",
    "    bigram_model = {\n",
    "        bigram: (count + 1) / (total_words + len(vocabulary))\n",
    "        for bigram, count in bigram_counts.items()\n",
    "    }\n",
    "    \n",
    "    return bigram_model"
   ]
  },
  {
   "cell_type": "code",
   "execution_count": 13,
   "metadata": {},
   "outputs": [
    {
     "data": {
      "text/plain": [
       "[{('I', 'love'): 0.14285714285714285,\n",
       "  ('love', 'cats'): 0.14285714285714285,\n",
       "  ('cats', '.'): 0.14285714285714285,\n",
       "  ('.', 'cats'): 0.14285714285714285,\n",
       "  ('cats', 'are'): 0.14285714285714285,\n",
       "  ('are', 'cute'): 0.14285714285714285,\n",
       "  ('cute', 'pets.'): 0.14285714285714285},\n",
       " {('Dogs', 'are'): 0.2727272727272727,\n",
       "  ('are', 'loyal.'): 0.18181818181818182,\n",
       "  ('loyal.', 'Dogs'): 0.18181818181818182,\n",
       "  ('are', 'good'): 0.18181818181818182,\n",
       "  ('good', 'friends.'): 0.18181818181818182},\n",
       " {('Birds', 'can'): 0.14285714285714285,\n",
       "  ('can', 'sing.'): 0.14285714285714285,\n",
       "  ('sing.', 'Birds'): 0.14285714285714285,\n",
       "  ('Birds', 'fly'): 0.14285714285714285,\n",
       "  ('fly', 'in'): 0.14285714285714285,\n",
       "  ('in', 'the'): 0.14285714285714285,\n",
       "  ('the', 'sky.'): 0.14285714285714285},\n",
       " {('Fish', 'live'): 0.14285714285714285,\n",
       "  ('live', 'underwater.'): 0.14285714285714285,\n",
       "  ('underwater.', 'Fish'): 0.14285714285714285,\n",
       "  ('Fish', 'come'): 0.14285714285714285,\n",
       "  ('come', 'in'): 0.14285714285714285,\n",
       "  ('in', 'many'): 0.14285714285714285,\n",
       "  ('many', 'colors.'): 0.14285714285714285}]"
      ]
     },
     "execution_count": 13,
     "metadata": {},
     "output_type": "execute_result"
    }
   ],
   "source": [
    "bigram_models = [bigram_model(doc) for doc in documents]\n",
    "bigram_models"
   ]
  },
  {
   "cell_type": "code",
   "execution_count": 14,
   "metadata": {},
   "outputs": [],
   "source": [
    "def calculate_bigram_query_probability(query, document_model):\n",
    "    if query in document_model:\n",
    "        return document_model[query]\n",
    "    else:\n",
    "\n",
    "        return 1 / (len(vocabulary) + len(document_model))\n",
    "\n",
    "vocabulary = set()\n",
    "\n",
    "for doc in documents:\n",
    "    words = doc.split()\n",
    "    for i in range(1, len(words)):\n",
    "        bigram = (words[i - 1], words[i])\n",
    "        vocabulary.add(bigram[0])"
   ]
  },
  {
   "cell_type": "code",
   "execution_count": 37,
   "metadata": {},
   "outputs": [
    {
     "name": "stdout",
     "output_type": "stream",
     "text": [
      "Query probability for document 1 is 0.037037037037037035\n",
      "Query probability for document 2 is 0.04\n",
      "Query probability for document 3 is 0.037037037037037035\n",
      "Query probability for document 4 is 0.037037037037037035\n",
      "Query probability for document is 0.041666666666666664\n"
     ]
    }
   ],
   "source": [
    "for i in range(len(documents)):\n",
    "    query_probability = calculate_bigram_query_probability(query, bigram_models[i])\n",
    "    print(\"Query probability for document {} is {}\".format(i+1, query_probability))\n",
    "query_probability_all = calculate_bigram_query_probability(query, bigram_models)\n",
    "print(\"Query probability for document is {}\".format(query_probability_all))"
   ]
  }
 ],
 "metadata": {
  "kernelspec": {
   "display_name": "Python 3",
   "language": "python",
   "name": "python3"
  },
  "language_info": {
   "codemirror_mode": {
    "name": "ipython",
    "version": 3
   },
   "file_extension": ".py",
   "mimetype": "text/x-python",
   "name": "python",
   "nbconvert_exporter": "python",
   "pygments_lexer": "ipython3",
   "version": "3.11.5"
  }
 },
 "nbformat": 4,
 "nbformat_minor": 5
}
